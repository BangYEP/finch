{
 "cells": [
  {
   "cell_type": "code",
   "execution_count": 1,
   "metadata": {
    "collapsed": true
   },
   "outputs": [],
   "source": [
    "% matplotlib inline\n",
    "import cv2\n",
    "import matplotlib.pyplot as plt"
   ]
  },
  {
   "cell_type": "code",
   "execution_count": 2,
   "metadata": {
    "collapsed": false
   },
   "outputs": [
    {
     "data": {
      "text/plain": [
       "<matplotlib.image.AxesImage at 0x98bd5e10f0>"
      ]
     },
     "execution_count": 2,
     "metadata": {},
     "output_type": "execute_result"
    },
    {
     "data": {
      "image/png": "[encoded data removed]",
      "text/plain": [
       "<matplotlib.figure.Figure at 0x98bd572550>"
      ]
     },
     "metadata": {},
     "output_type": "display_data"
    }
   ],
   "source": [
    "image = cv2.imread('img/shapes.jpg')\n",
    "plt.imshow(image)"
   ]
  },
  {
   "cell_type": "code",
   "execution_count": 3,
   "metadata": {
    "collapsed": false
   },
   "outputs": [
    {
     "name": "stdout",
     "output_type": "stream",
     "text": [
      "Number of Contours found = 3\n"
     ]
    }
   ],
   "source": [
    "gray = cv2.cvtColor(image,cv2.COLOR_BGR2GRAY)\n",
    "\n",
    "edged = cv2.Canny(gray, 30, 200) # finding Canny edges\n",
    "\n",
    "_, contours, hierarchy = cv2.findContours(edged, cv2.RETR_EXTERNAL, cv2.CHAIN_APPROX_NONE)\n",
    "\n",
    "print(\"Number of Contours found = \" + str(len(contours)))"
   ]
  },
  {
   "cell_type": "code",
   "execution_count": 4,
   "metadata": {
    "collapsed": false
   },
   "outputs": [
    {
     "data": {
      "text/plain": [
       "<matplotlib.image.AxesImage at 0x98bd68df60>"
      ]
     },
     "execution_count": 4,
     "metadata": {},
     "output_type": "execute_result"
    },
    {
     "data": {
      "image/png": "[encoded data removed]",
      "text/plain": [
       "<matplotlib.figure.Figure at 0x98bd5e1a20>"
      ]
     },
     "metadata": {},
     "output_type": "display_data"
    }
   ],
   "source": [
    "cv2.drawContours(image, contours, -1, (0,255,0), 3)\n",
    "plt.imshow(image)"
   ]
  },
  {
   "cell_type": "markdown",
   "metadata": {
    "collapsed": true
   },
   "source": [
    "#### Documentation\n",
    "* [Canny Edge Detection](http://docs.opencv.org/trunk/da/d22/tutorial_py_canny.html)\n",
    "* [Contours](http://docs.opencv.org/3.2.0/d4/d73/tutorial_py_contours_begin.html)\n",
    "* [Hierarchy](http://docs.opencv.org/trunk/d9/d8b/tutorial_py_contours_hierarchy.html)\n",
    "\n",
    "#### findContours()\n",
    "* cv2 vs cv3\n",
    "    <br><br>\n",
    "    * Return 2 args in opencv 2.x\n",
    "    \n",
    "     ```contours, hierarchy = cv2.findContours(edged, cv2.RETR_EXTERNAL, cv2.CHAIN_APPROX_NONE)```\n",
    "     <br><br>\n",
    "    * Return 3 args in opencv 3.x\n",
    "    \n",
    "     ```_, contours, hierarchy = cv2.findContours(edged, cv2.RETR_EXTERNAL, cv2.CHAIN_APPROX_NONE)```\n",
    "     <br><br>\n",
    "* Approximation Methods\n",
    "    <br><br>\n",
    "    * ```cv2.CHAIN_APPROX_NONE```\n",
    "    \n",
    "    stores all the boundary points. But we don't necessarily need all bounding points. If the points form a straight line, we only need the start and ending points of that line.\n",
    "    <br><br>\n",
    "    * ```cv2.CHAIN_APPROX_SIMPLE```\n",
    "    \n",
    "    instead only provides these start and end points of bounding contours, thus resulting in much more efficent storage of contour information.\n",
    "    <br><br>\n",
    "* Hierarchy Types (the first two are the most useful)\n",
    "    <br><br>\n",
    "    * ```cv2.RETR_LIST``` - retrieves all contours\n",
    "    <br><br>\n",
    "    * ```cv2.RETR_EXTERNAL``` - retrieves external or outer contours only\n",
    "    <br><br>\n",
    "    * ```cv2.RETR_COMP``` - retrieves all in a 2-level hierarchy\n",
    "    <br><br>\n",
    "    * ```cv2.RETR_TREE``` - retrieves all in full hierarchy\n",
    "    <br><br>"
   ]
  },
  {
   "cell_type": "code",
   "execution_count": null,
   "metadata": {
    "collapsed": true
   },
   "outputs": [],
   "source": []
  }
 ],
 "metadata": {
  "kernelspec": {
   "display_name": "Python 3",
   "language": "python",
   "name": "python3"
  },
  "language_info": {
   "codemirror_mode": {
    "name": "ipython",
    "version": 3
   },
   "file_extension": ".py",
   "mimetype": "text/x-python",
   "name": "python",
   "nbconvert_exporter": "python",
   "pygments_lexer": "ipython3",
   "version": "3.5.1"
  }
 },
 "nbformat": 4,
 "nbformat_minor": 0
}
